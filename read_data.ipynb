{
 "cells": [
  {
   "cell_type": "code",
   "execution_count": 1,
   "metadata": {},
   "outputs": [],
   "source": [
    "from functions import *\n",
    "import os\n",
    "import numpy as np\n",
    "import pandas as pd\n",
    "from sklearn.model_selection import train_test_split"
   ]
  },
  {
   "cell_type": "code",
   "execution_count": 2,
   "metadata": {},
   "outputs": [
    {
     "name": "stdout",
     "output_type": "stream",
     "text": [
      "             Date_time Intensity Temperature Humidity Pressure Wind_speed  \\\n",
      "0  2022-11-21 23-29-00      6.01        16.1     98.0    1.792      1.478   \n",
      "1  2022-11-21 23-51-00      4.08      15.955     98.1    1.777       0.26   \n",
      "2  2022-11-21 22-54-00      2.76       16.06     97.9    1.785      0.733   \n",
      "3  2022-10-05 15-03-00      4.67        12.1    95.15    1.343      1.398   \n",
      "4  2022-10-06 16-07-00      0.87      12.615    97.65    1.425      1.292   \n",
      "5  2022-10-06 10-35-00      0.45      12.395    97.05    1.395      0.866   \n",
      "\n",
      "      Video Duration         Surface     cadsa  dsfa  \n",
      "0  hiv00099       60  road(concrete)  [43, 33]    50  \n",
      "1  hiv00099       60  road(concrete)  [43, 33]    50  \n",
      "2  hiv00098       60  road(concrete)  [43, 33]    50  \n",
      "3  hiv00034       60      road(wood)  [43, 33]    50  \n",
      "4  hiv00052       60  road(concrete)  [43, 33]    50  \n",
      "5  hiv00043       60  road(concrete)  [43, 33]    50  \n"
     ]
    }
   ],
   "source": [
    "a = build_df(\"../../Desktop/SARID_SHORT/audio\",\"d\")\n",
    "\n",
    "print(a)"
   ]
  }
 ],
 "metadata": {
  "kernelspec": {
   "display_name": "Python 3",
   "language": "python",
   "name": "python3"
  },
  "language_info": {
   "codemirror_mode": {
    "name": "ipython",
    "version": 3
   },
   "file_extension": ".py",
   "mimetype": "text/x-python",
   "name": "python",
   "nbconvert_exporter": "python",
   "pygments_lexer": "ipython3",
   "version": "3.12.3"
  }
 },
 "nbformat": 4,
 "nbformat_minor": 2
}
